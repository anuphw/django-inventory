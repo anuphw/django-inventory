{
 "cells": [
  {
   "cell_type": "code",
   "execution_count": null,
   "id": "22e28dc3",
   "metadata": {},
   "outputs": [],
   "source": [
    "myInput = \"\"\"\n",
    "<div class=\"row mb-4\">\n",
    "    <label for=\"horizontal-firstname-input\" class=\"col-sm-3 col-form-label\">Product Field 1</label>\n",
    "    <div class=\"col-sm-9\">\n",
    "        <input type=\"text\" class=\"form-control\" id=\"horizontal-firstname-input\" placeholder=\"Enter Your First name\">\n",
    "    </div>\n",
    "</div>\n",
    "\"\"\"\n",
    "myDropDown = \"\"\"\n",
    "<div class=\"mb-3 row\">\n",
    "    <label class=\"col-md-2 col-form-label\">Select</label>\n",
    "    <div class=\"col-md-10\">\n",
    "        <select class=\"form-select\">\n",
    "            <option>Select</option>\n",
    "            <option>Large select</option>\n",
    "            <option>Small select</option>\n",
    "        </select>\n",
    "    </div>\n",
    "</div>\n",
    "\"\"\""
   ]
  }
 ],
 "metadata": {
  "kernelspec": {
   "display_name": "Python 3",
   "language": "python",
   "name": "python3"
  },
  "language_info": {
   "codemirror_mode": {
    "name": "ipython",
    "version": 3
   },
   "file_extension": ".py",
   "mimetype": "text/x-python",
   "name": "python",
   "nbconvert_exporter": "python",
   "pygments_lexer": "ipython3",
   "version": "3.9.2"
  },
  "vp": {
   "vp_config_version": "1.0.0",
   "vp_menu_width": 273,
   "vp_note_display": false,
   "vp_note_width": 0,
   "vp_position": {
    "width": 278
   },
   "vp_section_display": false,
   "vp_signature": "VisualPython"
  }
 },
 "nbformat": 4,
 "nbformat_minor": 5
}
